{
 "cells": [
  {
   "cell_type": "code",
   "execution_count": null,
   "id": "a0f822e4",
   "metadata": {},
   "outputs": [],
   "source": [
    "# In eda-benin/benin_eda.ipynb (manually created or from template)\n",
    "\n",
    "# 1. Load data\n",
    "import pandas as pd\n",
    "import numpy as np\n",
    "import matplotlib.pyplot as plt\n",
    "import seaborn as sns\n",
    "from scipy.stats import zscore\n",
    "\n",
    "df = pd.read_csv(\"../data/benin_raw.csv\")\n",
    "\n",
    "# 2. Summary Statistics\n",
    "display(df.describe())\n",
    "print(df.isna().sum())\n",
    "\n",
    "# 3. Outlier Detection\n",
    "columns = ['GHI', 'DNI', 'DHI', 'ModA', 'ModB', 'WS', 'WSgust']\n",
    "z_scores = np.abs(zscore(df[columns].dropna()))\n",
    "outliers = (z_scores > 3).any(axis=1)\n",
    "print(f\"Outliers detected: {outliers.sum()}\")\n",
    "\n",
    "# 4. Impute Missing\n",
    "df[columns] = df[columns].fillna(df[columns].median())\n",
    "\n",
    "# 5. Save Cleaned\n",
    "df.to_csv(\"../data/benin_clean.csv\", index=False)\n",
    "\n",
    "# 6. Visuals (Time Series, Heatmaps, etc.)\n",
    "# sns.heatmap(df[columns].corr(), annot=True, cmap=\"coolwarm\")\n",
    "\n",
    "# Additional plots go here...\n"
   ]
  }
 ],
 "metadata": {
  "language_info": {
   "name": "python"
  }
 },
 "nbformat": 4,
 "nbformat_minor": 5
}
