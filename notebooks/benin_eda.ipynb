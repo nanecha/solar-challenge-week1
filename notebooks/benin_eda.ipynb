{
 "cells": [
  {
   "cell_type": "code",
   "execution_count": null,
   "id": "d1a28f34",
   "metadata": {},
   "outputs": [],
   "source": [
    "#Import the dependencies \n",
    "import pandas as pd\n",
    "import numpy as np\n",
    "import matplotlib.pyplot as plt\n",
    "import seaborn as sns\n",
    "from scipy import stats\n",
    "from scipy import stats\n",
    "import os"
   ]
  },
  {
   "cell_type": "code",
   "execution_count": null,
   "id": "dec08aca",
   "metadata": {},
   "outputs": [],
   "source": [
    "# Load dataset \n",
    "#df = pd.read_csv('data/benin_raw.csv')\n",
    "df=pd.read_csv('F:/solar-challenge-week1/data/benin_raw.csv')"
   ]
  },
  {
   "cell_type": "code",
   "execution_count": null,
   "id": "46a466a9",
   "metadata": {},
   "outputs": [],
   "source": [
    "# for the visualization purpose \n",
    "plt.style.use('seaborn')\n",
    "sns.set_context(\"notebook\", font_scale=1.2)\n"
   ]
  },
  {
   "cell_type": "code",
   "execution_count": null,
   "id": "2eb02170",
   "metadata": {},
   "outputs": [],
   "source": [
    "#df.head(5)"
   ]
  },
  {
   "cell_type": "code",
   "execution_count": null,
   "id": "bfe56f6c",
   "metadata": {},
   "outputs": [],
   "source": [
    "#Summary Statistics & Missing-Value Report\n",
    "#Overview of numeric columns\n",
    "print(\"The description of the numeric columns:\")\n",
    "print(df.describe())\n",
    "#Overview of categorical columns\n",
    "print(\"***************************\")\n",
    "print(\"The description of the categorical columns: \")\n",
    "print(df.describe(include=['object']))\n",
    "#Overview of all columns\n",
    "print(\"****************************\")\n",
    "print(\"The description of all columns:\")\n",
    "print (df.describe(include='all'))\n",
    "#Overview of the dataset\n",
    "print(\"****************************\")\n",
    "print(\"An overview of the dataset: the first 5 rows\") \n",
    "print(df.head())\n",
    "#Overview of the dataset\n",
    "print(\"****************************\")\n",
    "print(\"An overview of the dataset: the last 5 rows\")\n",
    "\n",
    "# Overview of numeric columns\n",
    "print(\"The description of the numeric columns:\") print (df.describe())\n",
    "#Overview of categorical columns\n",
    "print(\"****************************\")\n",
    "print(\"The description of the categorical columns:\") print(df.describe(include=['object']))\n",
    "#Overview of all columns\n",
    "print(\"****************************\")\n",
    "print(\"The description of all columns:\")\n",
    "print (df.describe(includes='all'))\n",
    "#Overview of the dataset\n",
    "print(\"****************************\")\n",
    "print(\"An overview of the dataset: the first 5 rows\") \n",
    "print(df.head())\n",
    "#Overview of the dataset\n",
    "print(\"****************************\")\n",
    "print(\"An overview of the dataset: the last 5 rows\")\n",
    "print(df.tail())\n",
    "#Overview of the dataset\n",
    "print(\"****************************\")\n",
    "print(\"An overview of the dataset: a random sample of 5 rows\")\n",
    "print(df.sample(5))\n",
    "#Overview of the dataset\n",
    "print(\"****************************\")\n",
    "print(\"An overview of the dataset: the shape of the dataset\")\n",
    "print(df.info())\n",
    "#Check for missing values\n",
    "print(\"****************************\")\n",
    "print(\"Check for missing values: \")\n",
    "print(df.isna().sum())\n"
   ]
  }
 ],
 "metadata": {
  "kernelspec": {
   "display_name": ".venv",
   "language": "python",
   "name": "python3"
  },
  "language_info": {
   "codemirror_mode": {
    "name": "ipython",
    "version": 3
   },
   "file_extension": ".py",
   "mimetype": "text/x-python",
   "name": "python",
   "nbconvert_exporter": "python",
   "pygments_lexer": "ipython3",
   "version": "3.12.0"
  }
 },
 "nbformat": 4,
 "nbformat_minor": 5
}
