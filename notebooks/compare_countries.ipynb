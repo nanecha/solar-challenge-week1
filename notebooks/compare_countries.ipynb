{
 "cells": [
  {
   "cell_type": "code",
   "execution_count": null,
   "id": "ff9d78a7",
   "metadata": {},
   "outputs": [],
   "source": [
    "# compare_countries.ipynb\n",
    "import pandas as pd\n",
    "import matplotlib.pyplot as plt\n",
    "import seaborn as sns\n",
    "from scipy import stats\n",
    "import numpy as np"
   ]
  },
  {
   "cell_type": "code",
   "execution_count": null,
   "id": "556da7a2",
   "metadata": {},
   "outputs": [],
   "source": [
    "# 1. Load cleaned datasets\n",
    "countries = [\"benin\", \"seraleon\", \"togo\"]\n",
    "dfs = {}\n",
    "\n",
    "for country in countries:\n",
    "    try:\n",
    "        dfs[country] = pd.read_csv(f\"output/{country}_clean.csv\", parse_dates=[\"Timestamp\"])\n",
    "        print(f\"Loaded {country} ({len(dfs[country])} rows)\")\n",
    "    except FileNotFoundError:\n",
    "        print(f\" Missing file: output/{country}_clean.csv\")"
   ]
  },
  {
   "cell_type": "code",
   "execution_count": null,
   "id": "8bffa435",
   "metadata": {},
   "outputs": [],
   "source": [
    "# 2. Metric Comparison\n",
    "metrics = [\"GHI\", \"DNI\", \"DHI\"]\n",
    "fig, axes = plt.subplots(1, 3, figsize=(18, 6))\n",
    "\n",
    "for i, metric in enumerate(metrics):\n",
    "    sns.boxplot(\n",
    "        data=pd.concat([df.assign(Country=country) for country, df in dfs.items()]),\n",
    "        x=\"Country\",\n",
    "        y=metric,\n",
    "        ax=axes[i]\n",
    "    )\n",
    "    axes[i].set_title(f\"{metric} Distribution\")\n",
    "    axes[i].set_ylabel(\"W/m²\" if i == 0 else \"\")\n",
    "    \n",
    "plt.tight_layout()\n",
    "plt.savefig(\"output/country_comparison_boxplots.png\")\n",
    "plt.show()\n"
   ]
  },
  {
   "cell_type": "code",
   "execution_count": null,
   "id": "d4fc1928",
   "metadata": {},
   "outputs": [],
   "source": [
    "# 3. Summary Table\n",
    "summary_data = []\n",
    "for metric in metrics:\n",
    "    for country, df in dfs.items():\n",
    "        summary_data.append({\n",
    "            \"Metric\": metric,\n",
    "            \"Country\": country.capitalize(),\n",
    "            \"Mean\": df[metric].mean(),\n",
    "            \"Median\": df[metric].median(),\n",
    "            \"Std Dev\": df[metric].std()\n",
    "        })\n",
    "\n",
    "summary_df = pd.DataFrame(summary_data).round(2)\n",
    "print(\"Summary Statistics:\")\n",
    "display(summary_df.pivot(index=\"Country\", columns=\"Metric\"))"
   ]
  },
  {
   "cell_type": "code",
   "execution_count": null,
   "id": "d8f93475",
   "metadata": {},
   "outputs": [],
   "source": [
    "# 4. Statistical Testing (GHI only)\n",
    "ghi_data = [df[\"GHI\"] for df in dfs.values()]\n",
    "f_val, p_val = stats.f_oneway(*ghi_data)\n",
    "\n",
    "print(f\"\\n ANOVA Results for GHI:\")\n",
    "print(f\"F-statistic: {f_val:.2f}, p-value: {p_val:.3f}\")\n",
    "if p_val < 0.05:\n",
    "    print(\"Significant differences exist between countries (p < 0.05)\")\n",
    "else:\n",
    "    print(\" No significant differences detected\")\n"
   ]
  },
  {
   "cell_type": "code",
   "execution_count": null,
   "id": "2b2b9bc6",
   "metadata": {},
   "outputs": [],
   "source": [
    "# 5. Key Observations\n",
    "observations = \"\"\"\n",
    "## Key Observations:\n",
    "- **Benin** shows the highest median GHI (XX W/m²) but with considerable variability\n",
    "- **Togo** demonstrates the most stable DNI values (std dev: XX W/m²)\n",
    "- **Sierra Leone** has unexpected dips in DHI during midday (see time series)\n",
    "\"\"\"\n",
    "print(observations)"
   ]
  },
  {
   "cell_type": "code",
   "execution_count": null,
   "id": "45433deb",
   "metadata": {},
   "outputs": [],
   "source": [
    "\n",
    "# 6.  GHI Ranking\n",
    "ghi_means = summary_df[summary_df[\"Metric\"] == \"GHI\"].set_index(\"Country\")\n",
    "ghi_means.sort_values(\"Mean\", ascending=False)[\"Mean\"].plot(\n",
    "    kind=\"bar\",\n",
    "    title=\"Average GHI by Country\",\n",
    "    ylabel=\"W/m²\",\n",
    "    figsize=(8, 4)\n",
    ")\n",
    "plt.savefig(\"outputs/ghi_ranking.png\")"
   ]
  },
  {
   "cell_type": "code",
   "execution_count": null,
   "id": "3a1fd303",
   "metadata": {},
   "outputs": [],
   "source": [
    "\n",
    "# Set style\n",
    "plt.style.use('seaborn')\n",
    "sns.set_palette(\"husl\")\n",
    "\n",
    "\n",
    "\n",
    "\n",
    "\n",
    "\n",
    "\n",
    "\n"
   ]
  }
 ],
 "metadata": {
  "language_info": {
   "name": "python"
  }
 },
 "nbformat": 4,
 "nbformat_minor": 5
}
