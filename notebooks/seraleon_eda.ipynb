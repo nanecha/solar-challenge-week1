{
 "cells": [
  {
   "cell_type": "code",
   "execution_count": null,
   "id": "d01682eb",
   "metadata": {},
   "outputs": [],
   "source": [
    "#Import the dependencies \n",
    "import pandas as pd\n",
    "import numpy as np\n",
    "import matplotlib.pyplot as plt\n",
    "import seaborn as sns\n",
    "from scipy import stats\n",
    "#from scipy import stats\n",
    "from windrose import WindroseAxes\n",
    "import os"
   ]
  },
  {
   "cell_type": "code",
   "execution_count": null,
   "id": "92134286",
   "metadata": {},
   "outputs": [],
   "source": [
    "# Load dataset \n",
    "#df = pd.read_csv('data/seraleon_raw.csv')\n",
    "df=pd.read_csv('F:/solar-challenge-week1/data/seraleon_raw.csv')"
   ]
  },
  {
   "cell_type": "code",
   "execution_count": null,
   "id": "282cd325",
   "metadata": {},
   "outputs": [],
   "source": [
    "# Convert Timestamp to datetime\n",
    "df['Timestamp'] = pd.to_datetime(df['Timestamp'])"
   ]
  },
  {
   "cell_type": "code",
   "execution_count": null,
   "id": "82daadb4",
   "metadata": {},
   "outputs": [],
   "source": [
    "# 1. Summary Statistics & Missing-Value Report\n",
    "print(\"The description of the numeric columns:\")\n",
    "print(df.describe())\n",
    "#Overview of categorical columns\n",
    "#print(\"***************************\")\n",
    "#print(\"The description of the categorical columns: \")\n",
    "#print(df.describe(include=['object']))\n",
    "#Overview of all columns\n",
    "print(\"****************************\")\n",
    "print(\"The description of all columns:\")\n",
    "print (df.describe(include='all'))\n",
    "#Overview of the dataset\n",
    "print(\"****************************\")\n",
    "print(\"An overview of the dataset: the first 5 rows\") \n",
    "print(df.head())\n",
    "#Overview of the dataset\n",
    "print(\"****************************\")\n",
    "print(\"An overview of the dataset: the last 5 rows\")\n",
    "\n",
    "# Overview of numeric columns\n",
    "print(\"The description of the numeric columns:\") \n",
    "print (df.describe())\n",
    "#Overview of categorical columns\n",
    "print(\"****************************\")\n",
    "print(\"The description of the categorical columns:\") \n",
    "#print(df.describe(include=['object']))\n",
    "#Overview of all columns\n",
    "print(\"****************************\")\n",
    "print(\"The description of all columns:\")\n",
    "print (df.describe(include='all'))\n",
    "#Overview of the dataset\n",
    "print(\"****************************\")\n",
    "print(\"An overview of the dataset: the first 5 rows\") \n",
    "print(df.head())\n",
    "#Overview of the dataset\n",
    "print(\"****************************\")\n",
    "print(\"An overview of the dataset: the last 5 rows\")\n",
    "print(df.tail())\n",
    "#Overview of the dataset\n",
    "print(\"****************************\")\n",
    "print(\"An overview of the dataset: a random sample of 5 rows\")\n",
    "print(df.sample())\n",
    "#Overview of the dataset\n",
    "print(\"****************************\")\n",
    "print(\"An overview of the dataset: the shape of the dataset\")\n",
    "print(df.info())\n",
    "#Check for missing values\n",
    "print(\"****************************\")\n",
    "print(\"Check for missing values: \")\n",
    "print(df.isna().sum())\n"
   ]
  },
  {
   "cell_type": "code",
   "execution_count": null,
   "id": "94b95be2",
   "metadata": {},
   "outputs": [],
   "source": [
    "# 2. Outlier Detection & Basic Cleaning\n",
    "key_columns = ['GHI', 'DNI', 'DHI', 'ModA', 'ModB', 'WS', 'WSgust']\n",
    "print(\"\\n=== Outlier Detection (Z-scores > 3) ===\")\n",
    "for col in key_columns:\n",
    "    df[f'{col}_zscore'] = np.abs(stats.zscore(df[col], nan_policy='omit'))\n",
    "outliers = df[df[[f'{col}_zscore' for col in key_columns]].gt(3).any(axis=1)]\n",
    "print(f\"Number of rows with outliers (|Z|>3): {len(outliers)}\")"
   ]
  },
  {
   "cell_type": "code",
   "execution_count": null,
   "id": "516ae72e",
   "metadata": {},
   "outputs": [],
   "source": [
    "## Impute missing values in key columns with median\n",
    "for col in key_columns:\n",
    "    df[col].fillna(df[col].median(), inplace=True)\n",
    "\n",
    "# Drop rows with missing Timestamp or other critical non-numeric columns if any\n",
    "df.dropna(subset=['Timestamp'], inplace=True)\n"
   ]
  },
  {
   "cell_type": "code",
   "execution_count": null,
   "id": "6342748b",
   "metadata": {},
   "outputs": [],
   "source": [
    "# Export cleaned DataFrame\n",
    "if not os.path.exists('data'):\n",
    "    os.makedirs('data')\n",
    "df.drop(columns=[f'{col}_zscore' for col in key_columns]).to_csv('output/Seraleon_clean.csv', index=False)\n",
    "print(\"\\nCleaned data exported to data/benin_clean.csv\")\n"
   ]
  },
  {
   "cell_type": "code",
   "execution_count": null,
   "id": "1ce848bd",
   "metadata": {},
   "outputs": [],
   "source": [
    " # Histograms\n",
    "plt.figure(figsize=(16, 4))\n",
    "plt.subplot(1, 3, 1)\n",
    "sns.histplot(df['GHI'], bins=30, kde=True)\n",
    "plt.title('Distribution of GHI')\n",
    "plt.xlabel('GHI')\n",
    "plt.subplot(1, 3, 2)\n",
    "sns.histplot(df['WSgust'], bins=30, kde=True)\n",
    "plt.title('Distribution of WSgust')\n",
    "plt.xlabel('WSgust')\n",
    "plt.subplot(1, 3, 3)\n",
    "sns.histplot(df['WS'], bins=30, kde=True)\n",
    "plt.title('Distribution of Wind Speed')\n",
    "plt.xlabel('WS')\n",
    "plt.tight_layout()\n",
    "plt.savefig('figures/histograms.png')\n",
    "plt.show()"
   ]
  },
  {
   "cell_type": "code",
   "execution_count": null,
   "id": "0fa3afca",
   "metadata": {},
   "outputs": [],
   "source": [
    "# 3. Time Series Analysis\n",
    "plt.figure(figsize=(12, 6))\n",
    "for col in ['GHI', 'DNI', 'DHI', 'Tamb']:\n",
    "    plt.plot(df['Timestamp'], df[col], label=col)\n",
    "plt.title('Time Series of Solar Irradiance and Temperature')\n",
    "plt.xlabel('Timestamp')\n",
    "plt.ylabel('Value')\n",
    "plt.legend()\n",
    "plt.xticks(rotation=45)\n",
    "plt.tight_layout()\n",
    "plt.savefig('figure/time_series.png')\n",
    "plt.show()"
   ]
  },
  {
   "cell_type": "code",
   "execution_count": null,
   "id": "95935cb4",
   "metadata": {},
   "outputs": [],
   "source": [
    "# Monthly trends\n",
    "df['Month'] = df['Timestamp'].dt.month\n",
    "monthly_avg = df.groupby('Month')[['GHI', 'DNI', 'DHI', 'Tamb']].mean()\n",
    "monthly_avg.plot(kind='bar', figsize=(12, 6))\n",
    "plt.title('Monthly Average Solar Irradiance and Temperature')\n",
    "plt.xlabel('Month')\n",
    "plt.ylabel('Average Value')\n",
    "plt.tight_layout()\n",
    "plt.savefig('figures/monthly_trends.png')\n",
    "plt.show()"
   ]
  },
  {
   "cell_type": "code",
   "execution_count": null,
   "id": "1a0ece42",
   "metadata": {},
   "outputs": [],
   "source": [
    "# 4. Cleaning Impact\n",
    "cleaning_impact = df.groupby('Cleaning')[['ModA', 'ModB']].mean()\n",
    "cleaning_impact.plot(kind='bar', figsize=(10, 5))\n",
    "plt.title('Average ModA and ModB Pre/Post Cleaning')\n",
    "plt.xlabel('Cleaning (0 = No, 1 = Yes)')\n",
    "plt.ylabel('Average Value')\n",
    "plt.tight_layout()\n",
    "plt.savefig('figures/cleaning_impact.png')\n",
    "plt.show()"
   ]
  },
  {
   "cell_type": "code",
   "execution_count": null,
   "id": "a1ac4941",
   "metadata": {},
   "outputs": [],
   "source": [
    "# 5. Correlation & Relationship Analysis\n",
    "plt.figure(figsize=(10, 8))\n",
    "corr = df[['GHI', 'DNI', 'DHI', 'TModA', 'TModB']].corr()\n",
    "sns.heatmap(corr, annot=True, cmap='coolwarm', vmin=-1, vmax=1)\n",
    "plt.title('Correlation Heatmap')\n",
    "plt.tight_layout()\n",
    "plt.savefig('figures/correlation_heatmap.png')\n",
    "plt.show()"
   ]
  },
  {
   "cell_type": "code",
   "execution_count": null,
   "id": "70e0d364",
   "metadata": {},
   "outputs": [],
   "source": [
    "# Scatter plots\n",
    "plt.figure(figsize=(12, 4))\n",
    "plt.subplot(1, 3, 1)\n",
    "plt.scatter(df['WS'], df['GHI'], alpha=0.1)\n",
    "plt.xlabel('Wind Speed (WS)')\n",
    "plt.ylabel('GHI')\n",
    "plt.subplot(1, 3, 2)\n",
    "plt.scatter(df['WSgust'], df['GHI'], alpha=0.1)\n",
    "plt.xlabel('Wind Gust (WSgust)')\n",
    "plt.ylabel('GHI')\n",
    "plt.subplot(1, 3, 3)\n",
    "plt.scatter(df['WD'], df['GHI'], alpha=0.1)\n",
    "plt.xlabel('Wind Direction (WD)')\n",
    "plt.ylabel('GHI')\n",
    "plt.tight_layout()\n",
    "plt.savefig('figures/wind_vs_ghi.png')\n",
    "plt.show()\n",
    "\n",
    "plt.figure(figsize=(8, 4))\n",
    "plt.subplot(1, 2, 1)\n",
    "plt.scatter(df['RH'], df['Tamb'], alpha=0.5)\n",
    "plt.xlabel('Relative Humidity (RH)')\n",
    "plt.ylabel('Ambient Temperature (Tamb)')\n",
    "plt.subplot(1, 2, 2)\n",
    "plt.scatter(df['RH'], df['GHI'], alpha=0.5)\n",
    "plt.xlabel('Relative Humidity (RH)')\n",
    "plt.ylabel('GHI')\n",
    "plt.tight_layout()\n",
    "plt.savefig('figures/rh_vs_tamb_ghi.png')\n",
    "plt.show()"
   ]
  },
  {
   "cell_type": "code",
   "execution_count": null,
   "id": "be0004d5",
   "metadata": {},
   "outputs": [],
   "source": [
    "# 6. Wind & Distribution Analysis\n",
    "# Wind rose plot\n",
    "fig = plt.figure(figsize=(8, 8))\n",
    "ax = WindroseAxes.from_ax(fig=fig)\n",
    "ax.bar(df['WD'], df['WS'], normed=True, opening=0.8, edgecolor='white')\n",
    "ax.set_legend()\n",
    "plt.title('Wind Rose Plot (Wind Speed and Direction)')\n",
    "plt.savefig('figures/wind_rose.png')\n",
    "plt.show()"
   ]
  },
  {
   "cell_type": "code",
   "execution_count": null,
   "id": "5f162802",
   "metadata": {},
   "outputs": [],
   "source": [
    "## Temperature Analysis\n",
    "print(\"\\n=== Temperature and RH Analysis ===\")\n",
    "print(\"Correlation between RH and Tamb:\", df['RH'].corr(df['Tamb']))\n",
    "print(\"Correlation between RH and GHI:\", df['RH'].corr(df['GHI']))"
   ]
  },
  {
   "cell_type": "code",
   "execution_count": null,
   "id": "3e16163f",
   "metadata": {},
   "outputs": [],
   "source": [
    "# 8. Bubble Chart\n",
    "plt.figure(figsize=(10, 6))\n",
    "plt.scatter(df['Tamb'], df['GHI'], s=df['RH']*3, alpha=0.5)\n",
    "plt.xlabel('Ambient Temperature (Tamb)')\n",
    "plt.ylabel('GHI')\n",
    "plt.title('GHI vs. Tamb (Bubble Size = RH)')\n",
    "plt.tight_layout()\n",
    "plt.savefig('figures/bubble_chart.png')\n",
    "plt.show()"
   ]
  }
 ],
 "metadata": {
  "kernelspec": {
   "display_name": ".venv",
   "language": "python",
   "name": "python3"
  },
  "language_info": {
   "codemirror_mode": {
    "name": "ipython",
    "version": 3
   },
   "file_extension": ".py",
   "mimetype": "text/x-python",
   "name": "python",
   "nbconvert_exporter": "python",
   "pygments_lexer": "ipython3",
   "version": "3.12.0"
  }
 },
 "nbformat": 4,
 "nbformat_minor": 5
}
